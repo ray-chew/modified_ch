{
 "cells": [
  {
   "cell_type": "markdown",
   "metadata": {},
   "source": [
    "### Code for CPU-GPU Benchmarking (Appendix F)"
   ]
  },
  {
   "cell_type": "code",
   "execution_count": 1,
   "metadata": {
    "collapsed": true
   },
   "outputs": [],
   "source": [
    "import numpy as np\n",
    "from timeit import default_timer as timer\n",
    "from numba import autojit\n",
    "import matplotlib.pyplot as plt\n",
    "from scipy import integrate\n",
    "import time\n",
    "import pyfftw\n",
    "%matplotlib inline\n",
    "\n",
    "# GPU related libraries.\n",
    "import pyculib.fft\n",
    "import numba.cuda\n",
    "from numba import *\n",
    "from cmath import exp"
   ]
  },
  {
   "cell_type": "markdown",
   "metadata": {},
   "source": [
    "#### First steps into the GPU Method.\n",
    "\n",
    "Define the GPU kernel for the Fourier-pseudospectral method."
   ]
  },
  {
   "cell_type": "code",
   "execution_count": 2,
   "metadata": {
    "collapsed": true
   },
   "outputs": [],
   "source": [
    "@numba.cuda.jit\n",
    "def pseudospectral(guhat,k2,k4,eps,sigma,tpiL,dt):\n",
    "    xStart, yStart = numba.cuda.grid(2)\n",
    "    xIntv, yIntv = numba.cuda.gridsize(2)\n",
    "    for j in range(yStart,guhat.shape[1],yIntv):\n",
    "        for i in range(xStart,guhat.shape[0],xIntv):\n",
    "            guhat[i, j] *= exp(0.5*(-1.*eps**2*k4[i,j]*tpiL**4+k2[i,j]*tpiL**2-sigma)*dt)/guhat.shape[0]**2"
   ]
  },
  {
   "cell_type": "markdown",
   "metadata": {},
   "source": [
    "Define the GPU kernels for the Strong-Stability Preserving 3rd-order Runge-Kutta (SSP-RK3). Here, for each step of the Runge-Kutta time-stepping a new GPU kernel is launched. This can undoubted be improved on. The steps of the SSP-RK3 are respectively\n",
    "\n",
    "    ssp_rk1,\n",
    "    ssp_rk2,\n",
    "    ssp_rk3.\n",
    "    \n",
    "`getStencil` is a GPU function that takes the isotropic 4th-order accurate central difference stencil with periodic boundary conditions. Here, the memory accessed is grid-wise and is improperly coalesced for GPU-based calculations. Again, this can undoubted be improved on, e.g. by means of a pencil-stencil mentioned at https://devblogs.nvidia.com/finite-difference-methods-cuda-cc-part-1/."
   ]
  },
  {
   "cell_type": "code",
   "execution_count": 3,
   "metadata": {
    "collapsed": true
   },
   "outputs": [],
   "source": [
    "@numba.cuda.jit(device=True)\n",
    "def getStencil(x,y,xLim,yLim):\n",
    "    xLim -= 1\n",
    "    yLim -= 1\n",
    "    xp1 = x+1\n",
    "    xp2 = x+2\n",
    "    xm1 = x-1\n",
    "    xm2 = x-2\n",
    "    yp1 = y+1\n",
    "    yp2 = y+2\n",
    "    ym1 = y-1\n",
    "    ym2 = y-2\n",
    "    if x == xLim:\n",
    "        xp1 = 0\n",
    "        xp2 = 1\n",
    "    if xp1 == xLim:\n",
    "        xp2 = 0\n",
    "    if x == 0:\n",
    "        xm1 = xLim\n",
    "        xm2 = xLim-1\n",
    "    if xm1 == 0:\n",
    "        xm2 = xLim\n",
    "\n",
    "    if y == yLim:\n",
    "        yp1 = 0\n",
    "        yp2 = 1\n",
    "    if yp1 == yLim:\n",
    "        yp2 = 0\n",
    "    if y == 0:\n",
    "        ym1 = yLim\n",
    "        ym2 = yLim-1\n",
    "    if ym1 == 0:\n",
    "        ym2 = yLim\n",
    "        \n",
    "    return xp1,xp2,xm1,xm2,yp1,yp2,ym1,ym2\n",
    "\n",
    "@numba.cuda.jit\n",
    "def ssp_rk1(gv,fu,v1,h,sigma,dt,m):\n",
    "    coeff = 1./(12.*h**2)\n",
    "    xLim = gv.shape[0]\n",
    "    yLim = gv.shape[1]\n",
    "    xStart, yStart = numba.cuda.grid(2)\n",
    "    xIntv, yIntv = numba.cuda.gridsize(2)\n",
    "    for j in range(yStart,yLim,yIntv):\n",
    "        for i in range(xStart,xLim,xIntv):\n",
    "            x = j\n",
    "            y = i\n",
    "            xp1,xp2,xm1,xm2,yp1,yp2,ym1,ym2 = getStencil(x,y,xLim,yLim)\n",
    "                \n",
    "            fu[x,y] = coeff * (-60.*gv[x,y].real**3 - 1.*(gv[xm2,y].real**3 + gv[x,ym2].real**3 + gv[xp2,y].real**3 + gv[x,yp2].real**3) \\\n",
    "                           + 16. * (gv[xm1,y].real**3 + gv[x,ym1].real**3 + gv[xp1,y].real**3 + gv[x,yp1].real**3))\n",
    "            \n",
    "            v1[x,y] = gv[x,y].real + dt * (fu[x,y] + sigma*m)\n",
    "\n",
    "@numba.cuda.jit\n",
    "def ssp_rk2(gv,fu,v1,v2,h,sigma,dt,m):\n",
    "    coeff = 1./(12.*h**2)\n",
    "    xLim = gv.shape[0]\n",
    "    yLim = gv.shape[1]\n",
    "    xStart, yStart = numba.cuda.grid(2)\n",
    "    xIntv, yIntv = numba.cuda.gridsize(2)\n",
    "    for j in range(yStart,yLim,yIntv):\n",
    "        for i in range(xStart,xLim,xIntv):\n",
    "            x = j\n",
    "            y = i\n",
    "            xp1,xp2,xm1,xm2,yp1,yp2,ym1,ym2 = getStencil(x,y,xLim,yLim)\n",
    "                \n",
    "            fu[x,y] = coeff * (-60.*v1[x,y].real**3 - 1.*(v1[xm2,y].real**3 + v1[x,ym2].real**3 + v1[xp2,y].real**3 + v1[x,yp2].real**3) \\\n",
    "                           + 16. * (v1[xm1,y].real**3 + v1[x,ym1].real**3 + v1[xp1,y].real**3 + v1[x,yp1].real**3))\n",
    "            \n",
    "            v2[x,y] = 3./4 * gv[x,y].real + 1./4 * v1[x,y].real + 1./4 * dt * (fu[x,y] + sigma*m)\n",
    "                \n",
    "@numba.cuda.jit\n",
    "def ssp_rk3(gv,fu,v2,v3,h,sigma,dt,m):\n",
    "    coeff = 1./(12.*h**2)\n",
    "    xLim = gv.shape[0]\n",
    "    yLim = gv.shape[1]\n",
    "    xStart, yStart = numba.cuda.grid(2)\n",
    "    xIntv, yIntv = numba.cuda.gridsize(2)\n",
    "    for j in range(yStart,yLim,yIntv):\n",
    "        for i in range(xStart,xLim,xIntv):\n",
    "            x = j\n",
    "            y = i\n",
    "            xp1,xp2,xm1,xm2,yp1,yp2,ym1,ym2 = getStencil(x,y,xLim,yLim)\n",
    "            \n",
    "            fu[x,y] = coeff * (-60.*v2[x,y].real**3 - 1.*(v2[xm2,y].real**3 + v2[x,ym2].real**3 + v2[xp2,y].real**3 + v2[x,yp2].real**3) \\\n",
    "                           + 16. * (v2[xm1,y].real**3 + v2[x,ym1].real**3 + v2[xp1,y].real**3 + v2[x,yp1].real**3))\n",
    "            \n",
    "            v3[x,y] = 1./3 * gv[x,y].real + 2./3 * v2[x,y].real + 2./3 * dt * (fu[x,y] + sigma*m)"
   ]
  },
  {
   "cell_type": "markdown",
   "metadata": {},
   "source": [
    "The main DFT looping by means of the GPU."
   ]
  },
  {
   "cell_type": "code",
   "execution_count": 4,
   "metadata": {},
   "outputs": [
    {
     "name": "stdout",
     "output_type": "stream",
     "text": [
      "667\n",
      "time taken t1: 16.91\n",
      "time taken t2: 9.12\n",
      "time taken t3: 5.81\n"
     ]
    }
   ],
   "source": [
    "# define system parameters.\n",
    "m = 0.33\n",
    "C = 0.01\n",
    "L = 6.\n",
    "Nx = 64\n",
    "h = L/Nx\n",
    "C0 = 0.0015 / (L/64)**2\n",
    "\n",
    "# initial conditions used for determining the error of convergence.\n",
    "pts = np.linspace(0.,L,Nx)\n",
    "xx, yy = np.meshgrid(pts,pts)\n",
    "u = np.empty((Nx,Nx), dtype='complex128')\n",
    "u[:,:] = m + C*np.sin(np.pi*xx)*np.sin(np.pi*yy)\n",
    "\n",
    "# random initial conditions.\n",
    "# seed = 693\n",
    "# np.random.seed(seed)\n",
    "# u[:,:] = m + C*np.random.uniform(-1.,1.,(Nx,Nx))\n",
    "\n",
    "# get wavenumber / frequency grid.\n",
    "freqs = np.fft.fftfreq(Nx,(1.0/float(Nx)))\n",
    "kx, ky = np.meshgrid(freqs,freqs)\n",
    "k = kx + ky\n",
    "k2 = kx**2+ky**2\n",
    "k4 = k2**2\n",
    "\n",
    "# define yet more system parameters.\n",
    "tpiL = 2*np.pi/L\n",
    "delta = 0.50\n",
    "eps = 0.1\n",
    "sigma = 0.50\n",
    "dt = 0.001\n",
    "dt = C0*h**2\n",
    "#dt = 5e-6 # used for the 'exact solution'.\n",
    "\n",
    "# pre-allocate device (GPU) and host (CPU) arrays. \n",
    "uhat = np.empty_like(u, dtype='complex128')\n",
    "v = np.empty_like(u, dtype='complex128')\n",
    "\n",
    "gu = numba.cuda.to_device(u)\n",
    "guhat = numba.cuda.device_array((Nx,Nx),dtype='complex128')\n",
    "guhat_1 = numba.cuda.device_array((Nx,Nx),dtype='complex128')\n",
    "gv = numba.cuda.device_array((Nx,Nx),dtype='complex128')\n",
    "v3 = numba.cuda.device_array((Nx,Nx),dtype='complex128')\n",
    "\n",
    "v1 = numba.cuda.device_array((Nx,Nx),dtype='float64')\n",
    "v2 = numba.cuda.device_array((Nx,Nx),dtype='float64')\n",
    "fu = numba.cuda.device_array((Nx,Nx),dtype='float64')\n",
    "\n",
    "# define cuFFT plans.\n",
    "FFTplan = pyculib.fft.FFTPlan(shape=(Nx,Nx), itype='complex128', otype='complex128')\n",
    "FFTplan_1 = pyculib.fft.FFTPlan(shape=(Nx,Nx), itype='complex128', otype='complex128')\n",
    "\n",
    "it = int(1./dt)+1\n",
    "print(it)\n",
    "\n",
    "# define blocks per grid and threads per block to use.\n",
    "blocks = 64\n",
    "threads = 16\n",
    "\n",
    "bpg = (blocks, blocks)\n",
    "tpb = (threads, threads)\n",
    "\n",
    "t2 = 0.\n",
    "t3 = 0.\n",
    "\n",
    "tic1 = time.time()\n",
    "for i in range(it):\n",
    "    # the first substep of the Strang-splitting (equivalent to eqn 4.5a): Fourier-PS\n",
    "    tic2 = time.time()\n",
    "    FFTplan.forward(gu, guhat)\n",
    "    pseudospectral[bpg,tpb](guhat,k2,k4,eps,sigma,tpiL,dt)\n",
    "    FFTplan.inverse(guhat, gv)\n",
    "    numba.cuda.synchronize()\n",
    "    toc2 = time.time()\n",
    "    t2 += toc2-tic2\n",
    "    \n",
    "    # the second substep of the Strang-splitting (equivalent to eqn 4.5b): SSP-RK3\n",
    "    tic3 = time.time()\n",
    "    ssp_rk1[bpg,tpb](gv,fu,v1,h,sigma,dt,m)\n",
    "    numba.cuda.synchronize()\n",
    "    ssp_rk2[bpg,tpb](gv,fu,v1,v2,h,sigma,dt,m)\n",
    "    numba.cuda.synchronize()\n",
    "    ssp_rk3[bpg,tpb](gv,fu,v2,v3,h,sigma,dt,m)\n",
    "    numba.cuda.synchronize()\n",
    "    toc3 = time.time()\n",
    "    t3 += toc3-tic3\n",
    "    \n",
    "    # the third substep of the Strang-splitting (equivalent to eqn 4.5c): Fourier-PS\n",
    "    FFTplan.forward(v3, guhat)\n",
    "    pseudospectral[bpg,tpb](guhat,k2,k4,eps,sigma,tpiL,dt)\n",
    "    FFTplan.inverse(guhat, gu)\n",
    "    numba.cuda.synchronize()\n",
    "\n",
    "toc1 = time.time()\n",
    "t1 = toc1-tic1\n",
    "\n",
    "print(\"time taken t1: %.2f\" %(t1))\n",
    "print(\"time taken t2: %.2f\" %(t2))\n",
    "print(\"time taken t3: %.2f\" %(t3))"
   ]
  },
  {
   "cell_type": "markdown",
   "metadata": {},
   "source": [
    "Plot the result of the DFT simulation above."
   ]
  },
  {
   "cell_type": "code",
   "execution_count": 6,
   "metadata": {},
   "outputs": [
    {
     "data": {
      "image/png": "[encoded data removed]",
      "text/plain": [
       "<Figure size 432x288 with 1 Axes>"
      ]
     },
     "metadata": {},
     "output_type": "display_data"
    }
   ],
   "source": [
    "# transfer result array from GPU to CPU.\n",
    "gu.to_host()\n",
    "\n",
    "np.savetxt('uArray-dt=%s,it=%s,Nx=%s,sigma=%s,m=%s.txt' %(dt,it,Nx,sigma,m), u.real)\n",
    "plt.imshow(u.real,origin='left', extent=[0,L,0,L])\n",
    "plt.show()"
   ]
  },
  {
   "cell_type": "markdown",
   "metadata": {},
   "source": [
    "#### CPU Method.\n",
    "The cells/codes below are the same as in 2D_Strang_SSP_RK3.ipynb. The Jupyter Notebook makes importing the corresponding code a little complex, so I simply copied and pasted it here. I am aware that there are better or more elegant ways to overcome this. But this is the simplest that works.\n",
    "\n",
    "For comments or more details on the methods, please refer to *2D_Strang_SSP_RK3.ipynb*."
   ]
  },
  {
   "cell_type": "code",
   "execution_count": 34,
   "metadata": {
    "collapsed": true
   },
   "outputs": [],
   "source": [
    "@autojit\n",
    "def shift1(A,num):\n",
    "    E = np.empty_like(A)\n",
    "    F = np.empty_like(A)\n",
    "    G = np.empty_like(A)\n",
    "    H = np.empty_like(A)\n",
    "    \n",
    "    E[:num] = A[-num:]\n",
    "    E[num:] = A[:-num]\n",
    "    F[:-num] = A[num:]\n",
    "    F[-num:] = A[:num]\n",
    "    \n",
    "    G[:,:num] = A[:,-num:]\n",
    "    G[:,num:] = A[:,:-num]\n",
    "    H[:,:-num] = A[:,num:]\n",
    "    H[:,-num:] = A[:,:num]\n",
    "    return E + F + G + H\n",
    "\n",
    "@autojit\n",
    "def centralDiffShift1(A,h,Nx):\n",
    "    A = A**3\n",
    "    D = np.empty_like((Nx,Nx))\n",
    "    D = -1.*shift1(A,2)+ 16.*shift1(A,1) - 60.*A\n",
    "    return D/(12.*h**2)"
   ]
  },
  {
   "cell_type": "code",
   "execution_count": 35,
   "metadata": {
    "collapsed": true
   },
   "outputs": [],
   "source": [
    "wisdom = None"
   ]
  },
  {
   "cell_type": "code",
   "execution_count": null,
   "metadata": {},
   "outputs": [],
   "source": [
    "L = 6.\n",
    "#L = 5.0\n",
    "\n",
    "Nx = 32\n",
    "C0 = 0.0015/(L/64)**2\n",
    "h = L/Nx\n",
    "\n",
    "dx = np.linspace(0,L,Nx)\n",
    "dt = C0*h**2\n",
    "#dt = 5e-6\n",
    "#dt = 0.001\n",
    "eps = 0.1\n",
    "sigma = 0.50\n",
    "\n",
    "m = 0.33\n",
    "\n",
    "it = int(1./dt)\n",
    "#it = 5000\n",
    "it = 50\n",
    "it += 1\n",
    "lv = int(it/5)\n",
    "\n",
    "seed = 693\n",
    "np.random.seed(seed)\n",
    "r = np.random.uniform(-1.,1.,(Nx,Nx))\n",
    "\n",
    "if r.mean()<0:\n",
    "    r -= r.mean()\n",
    "else:\n",
    "    r += r.mean()\n",
    "\n",
    "# a scaling factor\n",
    "C = 0.01\n",
    "\n",
    "tpiL = 2.*np.pi/L\n",
    "\n",
    "u = pyfftw.empty_aligned((Nx,Nx), dtype='complex128', n=16)\n",
    "v = pyfftw.empty_aligned((Nx,Nx), dtype='complex128', n=16)\n",
    "vp = pyfftw.empty_aligned((Nx,Nx), dtype='complex128', n=16)\n",
    "vpp = pyfftw.empty_aligned((Nx,Nx), dtype='complex128', n=16)\n",
    "\n",
    "pts = np.linspace(0,L,Nx)\n",
    "xx, yy = np.meshgrid(pts,pts)\n",
    "#u[:,:] = m + C*r\n",
    "u[:,:] = m + C*np.sin(np.pi*xx)*np.sin(np.pi*yy)\n",
    "\n",
    "fft_object = pyfftw.FFTW(u, vpp, threads=4, axes=(0,1))\n",
    "ifft_object = pyfftw.FFTW(vpp, v, direction='FFTW_BACKWARD', threads=4, axes=(0,1))\n",
    "    \n",
    "fft_object = pyfftw.FFTW(v, vp, threads=4, axes=(0,1))\n",
    "ifft_object = pyfftw.FFTW(vp, u, direction='FFTW_BACKWARD', threads=4, axes=(0,1))\n",
    "\n",
    "freqs = np.fft.fftfreq(Nx,(1.0/float(Nx)))\n",
    "kx, ky = np.meshgrid(freqs,freqs)\n",
    "k = kx + ky\n",
    "k2 = kx**2+ky**2\n",
    "k4 = k2**2\n",
    "\n",
    "avgConc = np.zeros(it/lv+1)\n",
    "energy = np.zeros(it/lv+1)\n",
    "\n",
    "if wisdom != None:\n",
    "    pyfftw.import_wisdom(wisdom)\n",
    "\n",
    "j = 0\n",
    "t1 = 0\n",
    "t2 = 0\n",
    "t3 = 0\n",
    "\n",
    "print(it)\n",
    "    \n",
    "for i in xrange(it+1):\n",
    "    tic1 = time.time()\n",
    "    vpp = np.exp(0.5*(-1.*eps**2*k4*tpiL**4+k2*tpiL**2-sigma)*dt)*fft_object(u)\n",
    "    v = ifft_object(vpp).real\n",
    "    toc1 = time.time()\n",
    "    t1 += (toc1-tic1)\n",
    "    \n",
    "    tic2 = time.time()\n",
    "    v1 = v.real + dt * (centralDiffShift1(v.real,h,Nx) + sigma*m)\n",
    "    v2 = 3./4. * v + 1./4. * v1 + 1./4. * dt * (centralDiffShift1(v1,h,Nx) + sigma*m)\n",
    "    v = 1./3. * v + 2./3. * v2 + 2./3. * dt *  (centralDiffShift1(v2,h,Nx) + sigma*m)\n",
    "    toc2 = time.time()\n",
    "    t2 += (toc2-tic2)\n",
    "    \n",
    "    tic3 = time.time()\n",
    "    vp = np.exp(0.5*(-1.*eps**2*k4*tpiL**4+k2*tpiL**2-sigma)*dt)*fft_object(v)\n",
    "    u = ifft_object(vp).real\n",
    "    toc3 = time.time()\n",
    "    t3 += (toc3-tic3)\n",
    "    \n",
    "    if i%int((it-1)/10)==0:\n",
    "        fig1 = plt.figure(figsize=(3,3))\n",
    "        plt.imshow(u.real,origin='left', extent=[0,L,0,L])\n",
    "        \n",
    "    if i%lv==0:\n",
    "        dim = 2\n",
    "        u0 = u\n",
    "        for d in range(dim):\n",
    "            u0 = integrate.trapz(u0,dx)\n",
    "        avgConc[j] = u0 / L**2\n",
    "        \n",
    "        T1 = -1.j * k * tpiL * np.fft.fft2(u)\n",
    "        T1 = np.real(np.fft.ifft2(T1))\n",
    "        T1 = 0.5*eps**2*abs(T1)**2\n",
    "\n",
    "        T2 = 1./4*(np.real(u)**2-1.)**2\n",
    "\n",
    "        up = np.real(u)-m\n",
    "        for d in range(dim):\n",
    "            up = integrate.trapz(up,dx)\n",
    "        T3 = -1.*up\n",
    "        T3 = 0.5*sigma*abs(T3)**2\n",
    "\n",
    "        en = T1 + T2 + T3\n",
    "        en = np.real(en)\n",
    "        for d in range(dim):\n",
    "            en = integrate.trapz(en,dx)\n",
    "        energy[j] = en\n",
    "        j += 1\n",
    "\n",
    "wisdom = pyfftw.export_wisdom()\n",
    "\n",
    "energy /= energy[0]\n",
    "\n",
    "print(\"time taken1: %.2f\" %(t1))\n",
    "print(\"time taken2: %.2f\" %(t2))\n",
    "print(\"time taken3: %.2f\" %(t3))\n",
    "print(\"total time taken: %.2f\" %(t1+t2+t3))"
   ]
  },
  {
   "cell_type": "code",
   "execution_count": 132,
   "metadata": {},
   "outputs": [
    {
     "data": {
      "text/plain": [
       "<matplotlib.image.AxesImage at 0x2c188e48>"
      ]
     },
     "execution_count": 132,
     "metadata": {},
     "output_type": "execute_result"
    },
    {
     "data": {
      "image/png": "[encoded data removed]",
      "text/plain": [
       "<Figure size 216x216 with 1 Axes>"
      ]
     },
     "metadata": {},
     "output_type": "display_data"
    }
   ],
   "source": [
    "fig = plt.figure(figsize=(3,3))\n",
    "plt.imshow(u,origin='left', extent=[0,L,0,L])"
   ]
  },
  {
   "cell_type": "markdown",
   "metadata": {},
   "source": [
    "#### Benchmarking codes.\n",
    "\n",
    "#### Fourier-PS\n",
    "\n",
    "Below is the time-measurement for only the Fourier-PS substep for the GPU (CUDA) method. As the GPU kernels cannot be launched as part of a function, I recorded the time-taken manually in a separate array."
   ]
  },
  {
   "cell_type": "code",
   "execution_count": null,
   "metadata": {},
   "outputs": [],
   "source": [
    "C = 0.01\n",
    "m = 0.33\n",
    "Nx = 2048\n",
    "it = 50\n",
    "eps = 0.1\n",
    "sigma = 0.5\n",
    "L = 5.0\n",
    "tpiL = 2.*np.pi/L\n",
    "dt = 0.001\n",
    "\n",
    "seed = 3175\n",
    "np.random.seed(seed)\n",
    "\n",
    "freqs = np.fft.fftfreq(Nx,(1.0/float(Nx)))\n",
    "kx, ky = np.meshgrid(freqs,freqs)\n",
    "k = kx + ky\n",
    "k2 = kx**2+ky**2\n",
    "k4 = k2**2\n",
    "\n",
    "u = np.empty((Nx,Nx), dtype='complex128')\n",
    "u[:,:] = m + C*np.random.uniform(-1.,1.,(Nx,Nx))\n",
    "\n",
    "t2 = 0\n",
    "\n",
    "gu = numba.cuda.to_device(u)\n",
    "guhat = numba.cuda.device_array((Nx,Nx),dtype='complex128')\n",
    "guhat_1 = numba.cuda.device_array((Nx,Nx),dtype='complex128')\n",
    "gv = numba.cuda.device_array((Nx,Nx),dtype='complex128')\n",
    "\n",
    "FFTplan = pyculib.fft.FFTPlan(shape=(Nx,Nx), itype='complex128', otype='complex128')\n",
    "\n",
    "blocks = 64\n",
    "threads = 16\n",
    "\n",
    "bpg = (blocks, blocks)\n",
    "tpb = (threads, threads)\n",
    "\n",
    "for i in range(it):\n",
    "    tic2 = time.time()\n",
    "    FFTplan.forward(gu, guhat)\n",
    "    pseudospectral[bpg,tpb](guhat,k2,k4,eps,sigma,tpiL,dt)\n",
    "    FFTplan.inverse(guhat, gv)\n",
    "    numba.cuda.synchronize()\n",
    "    toc2 = time.time()\n",
    "    t2 += toc2-tic2\n",
    "\n",
    "print(t2)"
   ]
  },
  {
   "cell_type": "markdown",
   "metadata": {},
   "source": [
    "Then, functions for the Fourier-PS substep using other CPU-based methods are below.\n",
    "\n",
    "1. `npfft_test` is a function measuring the time taken for the numpy fft method.\n",
    "2. `pyfftw_test` is for the pyFFTW with no parallelisation.\n",
    "3. `pyfftw_test_parallel` is for the pyFFTW with 4 parallel threads on the CPU."
   ]
  },
  {
   "cell_type": "code",
   "execution_count": 89,
   "metadata": {
    "collapsed": true
   },
   "outputs": [],
   "source": [
    "def npfft_test(u0,eps,sigma,k2,k4,tpiL,dt,it):\n",
    "    t0 = 0\n",
    "    for  i in range(it):\n",
    "        tic0 = time.time()\n",
    "        uhat = np.exp(0.5*(-1.*eps**2*k4*tpiL**4+k2*tpiL**2-sigma)*dt)*np.fft.fft2(u0).real\n",
    "        u1 = np.fft.ifft2(uhat).real\n",
    "        toc0 = time.time()\n",
    "        t0 += toc0-tic0\n",
    "    return t0\n",
    "\n",
    "def pyfftw_test(u1,eps,sigma,k2,k4,tpiL,dt,it):\n",
    "    t1 = 0\n",
    "    v = pyfftw.empty_aligned((Nx,Nx), dtype='complex128', n=16)\n",
    "    vpp = pyfftw.empty_aligned((Nx,Nx), dtype='complex128', n=16)\n",
    "    \n",
    "    fft_object = pyfftw.FFTW(u, vpp, threads=1, axes=(0,1))\n",
    "    ifft_object = pyfftw.FFTW(vpp, v, direction='FFTW_BACKWARD', threads=1, axes=(0,1))\n",
    "    \n",
    "    for  i in range(it):\n",
    "        tic1 = time.time()\n",
    "        vpp = np.exp(0.5*(-1.*eps**2*k4*tpiL**4+k2*tpiL**2-sigma)*dt)*fft_object(u1)\n",
    "        v = ifft_object(vpp).real\n",
    "        toc1 = time.time()\n",
    "        t1 += (toc1-tic1)\n",
    "    return t1\n",
    "\n",
    "def pyfftw_test_parallel(u1,eps,sigma,k2,k4,tpiL,dt,it):\n",
    "    t1 = 0\n",
    "    v = pyfftw.empty_aligned((Nx,Nx), dtype='complex128', n=16)\n",
    "    vpp = pyfftw.empty_aligned((Nx,Nx), dtype='complex128', n=16)\n",
    "    \n",
    "    fft_object = pyfftw.FFTW(u, vpp, threads=4, axes=(0,1))\n",
    "    ifft_object = pyfftw.FFTW(vpp, v, direction='FFTW_BACKWARD', threads=4, axes=(0,1))\n",
    "    \n",
    "    for  i in range(it):\n",
    "        tic1 = time.time()\n",
    "        vpp = np.exp(0.5*(-1.*eps**2*k4*tpiL**4+k2*tpiL**2-sigma)*dt)*fft_object(u1)\n",
    "        v = ifft_object(vpp).real\n",
    "        toc1 = time.time()\n",
    "        t1 += (toc1-tic1)\n",
    "    return t1"
   ]
  },
  {
   "cell_type": "markdown",
   "metadata": {},
   "source": [
    "The above functions make time-measurements easier. The time-taken are recorded in the respective arrays."
   ]
  },
  {
   "cell_type": "code",
   "execution_count": 95,
   "metadata": {
    "collapsed": true
   },
   "outputs": [],
   "source": [
    "it = 50\n",
    "\n",
    "Nxs = [64,128,256,512,1024,2048]\n",
    "t0s = np.zeros((len(Nxs)))\n",
    "t1s = np.zeros((len(Nxs)))\n",
    "t1as = np.zeros((len(Nxs)))\n",
    "\n",
    "u1 = pyfftw.empty_aligned((Nx,Nx), dtype='complex128', n=16)\n",
    "\n",
    "j = 0\n",
    "for Nx in Nxs:\n",
    "    u = np.empty((Nx,Nx), dtype='complex128')\n",
    "    u[:,:] = m + C*np.random.uniform(-1.,1.,(Nx,Nx))\n",
    "    u0 = np.copy(u)\n",
    "    u1 = np.copy(u)\n",
    "    \n",
    "    freqs = np.fft.fftfreq(Nx,(1.0/float(Nx)))\n",
    "    kx, ky = np.meshgrid(freqs,freqs)\n",
    "    k = kx + ky\n",
    "    k2 = kx**2+ky**2\n",
    "    k4 = k2**2\n",
    "\n",
    "    t0s[j] = npfft_test(u0,eps,sigma,k2,k4,tpiL,dt,it)\n",
    "    t1s[j] = pyfftw_test(u1,eps,sigma,k2,k4,tpiL,dt,it)\n",
    "    t1as[j] = pyfftw_test_parallel(u1,eps,sigma,k2,k4,tpiL,dt,it)\n",
    "    j += 1"
   ]
  },
  {
   "cell_type": "markdown",
   "metadata": {},
   "source": [
    "Time measured for *cuFFT* in seconds. As mentioned, since the GPU kernels cannot be run as part of a function, I store the time measured manually in this array."
   ]
  },
  {
   "cell_type": "code",
   "execution_count": 97,
   "metadata": {
    "collapsed": true
   },
   "outputs": [],
   "source": [
    "t2s = [0.141999959946, 0.205000162125, 0.421000003815, 1.21799993515, 3.93400001526, 15.0580000877]\n",
    "t2s = np.array(t2s)"
   ]
  },
  {
   "cell_type": "markdown",
   "metadata": {},
   "source": [
    "The time taken for the other methods.\n",
    "\n",
    "    t0s = numpy fft\n",
    "    t1s = pyFFTW (1 thread)\n",
    "    t2s = pyFFTW (4 threads)"
   ]
  },
  {
   "cell_type": "code",
   "execution_count": 96,
   "metadata": {},
   "outputs": [
    {
     "name": "stdout",
     "output_type": "stream",
     "text": [
      "[  5.79998493e-02   9.39998627e-02   6.32999897e-01   3.35200000e+00\n",
      "   1.40960000e+01   6.19399998e+01]\n",
      "[  1.10001564e-02   3.70001793e-02   3.01000118e-01   1.68600011e+00\n",
      "   7.21000004e+00   3.20699997e+01]\n",
      "[  1.30000114e-02   3.60000134e-02   3.05000067e-01   1.50599980e+00\n",
      "   8.21700001e+00   2.83920000e+01]\n"
     ]
    }
   ],
   "source": [
    "print(t0s)\n",
    "print(t1s)\n",
    "print(t1as)"
   ]
  },
  {
   "cell_type": "markdown",
   "metadata": {},
   "source": [
    "Plot the benchmarking result for the Fourier-PS substep."
   ]
  },
  {
   "cell_type": "code",
   "execution_count": 157,
   "metadata": {},
   "outputs": [
    {
     "data": {
      "image/png": "[encoded data removed]",
      "text/plain": [
       "<Figure size 576x360 with 1 Axes>"
      ]
     },
     "metadata": {},
     "output_type": "display_data"
    }
   ],
   "source": [
    "import matplotlib\n",
    "matplotlib.rcParams.update({'font.size': 14})\n",
    "fig3 = plt.figure(figsize = (8,5))\n",
    "plt.semilogy(np.log2(Nxs),t0s,'-o', label='numpy fft')\n",
    "plt.semilogy(np.log2(Nxs),t1s,'-o', label='pyFFTW, 1 thread')\n",
    "plt.semilogy(np.log2(Nxs),t1as,'-o', label='pyFFTW, 4 threads')\n",
    "plt.semilogy(np.log2(Nxs),t2s,'-o', label='cuFFT (GPU)')\n",
    "\n",
    "plt.legend(loc = 'lower right')\n",
    "plt.grid()\n",
    "\n",
    "plt.ylabel(r'time taken for 50 iterations / s')\n",
    "\n",
    "plt.xticks([6,7,8,9,10,11],[r'$2^6$',r'$2^7$',r'$2^8$',r'$2^9$',r'$2^{10}$',r'$2^{11}$'])\n",
    "plt.yticks([0.01,0.1,1.0,10.0,100.0],[0.01,0.1,1.0,10.0,100.0])\n",
    "plt.xlabel(r'$N_x$; Array size = $(N_x \\times N_x)$')\n",
    "plt.xlim(6,11)\n",
    "plt.ylim(0.01,100)\n",
    "plt.savefig('ec_ps.pdf', bbox_inches='tight')\n",
    "plt.show()"
   ]
  },
  {
   "cell_type": "markdown",
   "metadata": {},
   "source": [
    "#### SSP-RK3 + Central Difference\n",
    "\n",
    "The time-measurement for the GPU-based SSP-RK3 + 4th order accurate central difference."
   ]
  },
  {
   "cell_type": "code",
   "execution_count": 178,
   "metadata": {
    "collapsed": true
   },
   "outputs": [],
   "source": [
    "blocks = 64\n",
    "threads = 16\n",
    "Nx = 2048\n",
    "it = 50\n",
    "\n",
    "u = np.empty((Nx,Nx), dtype='complex128')\n",
    "u[:,:] = m + C*np.random.uniform(-1.,1.,(Nx,Nx))\n",
    "\n",
    "bpg = (blocks, blocks)\n",
    "tpb = (threads, threads)\n",
    "\n",
    "gv = numba.cuda.to_device(u)\n",
    "v3 = numba.cuda.device_array((Nx,Nx),dtype='complex128')\n",
    "\n",
    "v1 = numba.cuda.device_array((Nx,Nx),dtype='float64')\n",
    "v2 = numba.cuda.device_array((Nx,Nx),dtype='float64')\n",
    "fu = numba.cuda.device_array((Nx,Nx),dtype='float64')\n",
    "\n",
    "t3 = 0\n",
    "for i in range(it):\n",
    "    tic3 = time.time()\n",
    "    ssp_rk1[bpg,tpb](gv,fu,v1,h,sigma,dt,m)\n",
    "    numba.cuda.synchronize()\n",
    "    ssp_rk2[bpg,tpb](gv,fu,v1,v2,h,sigma,dt,m)\n",
    "    numba.cuda.synchronize()\n",
    "    ssp_rk3[bpg,tpb](gv,fu,v2,v3,h,sigma,dt,m)\n",
    "    numba.cuda.synchronize()\n",
    "    toc3 = time.time()\n",
    "    t3 += toc3-tic3"
   ]
  },
  {
   "cell_type": "markdown",
   "metadata": {},
   "source": [
    "Functions to measure time-taken for the other CPU-based methods for the SSP-RK3 + 4th order accurate Central Difference."
   ]
  },
  {
   "cell_type": "code",
   "execution_count": 263,
   "metadata": {
    "collapsed": true
   },
   "outputs": [],
   "source": [
    "#@numba.autojit\n",
    "def getStencil(x,y,xLim,yLim):\n",
    "    xLim -= 1\n",
    "    yLim -= 1\n",
    "    xp1 = x+1\n",
    "    xp2 = x+2\n",
    "    xm1 = x-1\n",
    "    xm2 = x-2\n",
    "    yp1 = y+1\n",
    "    yp2 = y+2\n",
    "    ym1 = y-1\n",
    "    ym2 = y-2\n",
    "    if x == xLim:\n",
    "        xp1 = 0\n",
    "        xp2 = 1\n",
    "    if xp1 == xLim:\n",
    "        xp2 = 0\n",
    "    if x == 0:\n",
    "        xm1 = xLim\n",
    "        xm2 = xLim-1\n",
    "    if xm1 == 0:\n",
    "        xm2 = xLim\n",
    "\n",
    "    if y == yLim:\n",
    "        yp1 = 0\n",
    "        yp2 = 1\n",
    "    if yp1 == yLim:\n",
    "        yp2 = 0\n",
    "    if y == 0:\n",
    "        ym1 = yLim\n",
    "        ym2 = yLim-1\n",
    "    if ym1 == 0:\n",
    "        ym2 = yLim\n",
    "        \n",
    "    return xp1,xp2,xm1,xm2,yp1,yp2,ym1,ym2\n",
    "\n",
    "#@numba.autojit\n",
    "def for_loops(u,h,it):\n",
    "    xLim = u.shape[0]\n",
    "    yLim = u.shape[1]\n",
    "    u = u**3\n",
    "    nlU = np.zeros((xLim,yLim))\n",
    "    for x in range(xLim):\n",
    "        for y in range(yLim):\n",
    "            xp1,xp2,xm1,xm2,yp1,yp2,ym1,ym2 = getStencil(x,y,xLim,yLim)\n",
    "            nlU[y,x] = (-1.*u[y,xm2] + 16.*u[y,xm1] - 30.*u[y,x] + 16.*u[y,xp1] - 1.*u[y,xp2]) / (12.*h**2) + \\\n",
    "                        (-1.*u[ym2,x] + 16.*u[ym1,x] - 30.*u[y,x] + 16.*u[yp1,x] - 1.*u[yp2,x]) / (12.*h**2)\n",
    "    return nlU\n",
    "\n",
    "@numba.autojit\n",
    "def nproll(u,h,it):\n",
    "    u = u**3\n",
    "    u = (-1.*(np.roll(u,-2,axis=0)+np.roll(u,-2,axis=1)+np.roll(u,2,axis=0)+np.roll(u,2,axis=1)) + \\\n",
    "            16*(np.roll(u,-1,axis=0)+np.roll(u,-1,axis=1)+np.roll(u,1,axis=0)+np.roll(u,1,axis=1)) - \\\n",
    "            60*u) / (12.*h**2)\n",
    "    return u\n",
    "    \n",
    "@numba.autojit\n",
    "def shift1(A,num):\n",
    "    E = np.empty_like(A)\n",
    "    F = np.empty_like(A)\n",
    "    G = np.empty_like(A)\n",
    "    H = np.empty_like(A)\n",
    "    \n",
    "    E[:num] = A[-num:]\n",
    "    E[num:] = A[:-num]\n",
    "    F[:-num] = A[num:]\n",
    "    F[-num:] = A[:num]\n",
    "    \n",
    "    G[:,:num] = A[:,-num:]\n",
    "    G[:,num:] = A[:,:-num]\n",
    "    H[:,:-num] = A[:,num:]\n",
    "    H[:,-num:] = A[:,:num]\n",
    "    return E + F + G + H\n",
    "\n",
    "@numba.autojit\n",
    "def centralDiffShift1(u,h,it):\n",
    "    D = np.empty_like(u)\n",
    "    u = u**3\n",
    "    D = (-1.*shift1(u,2)+ 16.*shift1(u,1) - 60.*u) /(12.*h**2)\n",
    "    return D"
   ]
  },
  {
   "cell_type": "markdown",
   "metadata": {},
   "source": [
    "Time measured in seconds for different methods. The CUDA array is stored as before, as the GPU kernels cannot be launched in functions, I had to store the time taken manually.\n",
    "\n",
    "The other arrays store the time values of the methods with **no** Numba just-in-time (JIT) compilation. Since the JIT calls are interpreter directives, I decided to just comment them out for (no jit) methods, and store the time values here."
   ]
  },
  {
   "cell_type": "code",
   "execution_count": 274,
   "metadata": {
    "collapsed": true
   },
   "outputs": [],
   "source": [
    "# CUDA.\n",
    "t3s = [0.275000095367,0.325000047684,0.455000162125,0.835000038147,2.18700003624,6.07400012016]\n",
    "\n",
    "# For-loops (no jit)\n",
    "t0as = [4.0769999,20.80199981,66.95099998,270.97000003,753.01203801]\n",
    "\n",
    "# np.roll\n",
    "t1as = [1.09999895e-01,4.51999903e-01,2.03299999e+00,1.07590001e+01,4.51719999e+01,1.81705000e+02]\n",
    "\n",
    "# shift algorithm (no jit)\n",
    "t2as = [6.90000057e-02,4.21999931e-01,1.74799991e+00,1.05179999e+01,4.27219999e+01,1.81942000e+02]"
   ]
  },
  {
   "cell_type": "markdown",
   "metadata": {},
   "source": [
    "I wrote a separate test for the simple for-looping (no JIT, no optimisations), as the time taken is **much** longer compared to the other methods. Below is the test."
   ]
  },
  {
   "cell_type": "code",
   "execution_count": 266,
   "metadata": {
    "collapsed": true
   },
   "outputs": [],
   "source": [
    "Nxs = [512]\n",
    "t0bs = np.zeros((len(Nxs)))\n",
    "\n",
    "j = 0\n",
    "t0b = 0 \n",
    "for Nx in Nxs:\n",
    "    h = L/Nx\n",
    "\n",
    "    u = np.empty((Nx,Nx), dtype='float64')\n",
    "    u[:,:] = m + C*np.random.uniform(-1.,1.,(Nx,Nx))\n",
    "    \n",
    "    u0 = np.copy(u)\n",
    "    \n",
    "    if (Nx<= 5000):\n",
    "        tic0b = time.time()\n",
    "        for i in range(it):\n",
    "            v1 = u0 + dt * (for_loops(u0,h,Nx) + sigma*m)\n",
    "            v2 = 3./4. * u0 + 1./4. * v1 + 1./4. * dt * (for_loops(v1,h,Nx) + sigma*m)\n",
    "            v = 1./3. * u0 + 2./3. * v2 + 2./3. * dt *  (for_loops(v2,h,Nx) + sigma*m)\n",
    "        toc0b = time.time()\n",
    "        t0b += (toc0b-tic0b)\n",
    "        t0bs[j] = t0b"
   ]
  },
  {
   "cell_type": "markdown",
   "metadata": {},
   "source": [
    "The other CPU-based methods for the SSP-RK3 + central difference are tested together here, and the time taken are stored in the respective arrays. The corresponding arrays names are:\n",
    "\n",
    "    t0as = for-looping (no JIT)\n",
    "    t0s = for-looping (JIT)\n",
    "    t1s = numpy roll\n",
    "    t2as = shift algorithm (no JIT)\n",
    "    t2s = shift algorithm (JIT)\n",
    "    t3s = CUDA (GPU)"
   ]
  },
  {
   "cell_type": "code",
   "execution_count": 257,
   "metadata": {
    "collapsed": true
   },
   "outputs": [],
   "source": [
    "Nxs = [64,128,256,512,1024,2048]\n",
    "t0s = np.zeros((len(Nxs)))\n",
    "t1s = np.zeros((len(Nxs)))\n",
    "t2s = np.zeros((len(Nxs)))\n",
    "\n",
    "j = 0\n",
    "t0 = 0 \n",
    "t1 = 0\n",
    "t2 = 0\n",
    "for Nx in Nxs:\n",
    "    h = L/Nx\n",
    "\n",
    "    u = np.empty((Nx,Nx), dtype='float64')\n",
    "    u[:,:] = m + C*np.random.uniform(-1.,1.,(Nx,Nx))\n",
    "    \n",
    "    u0 = np.copy(u)\n",
    "    u1 = np.copy(u)\n",
    "    u2 = np.copy(u)\n",
    "    \n",
    "    if (Nx<= 5000):\n",
    "        tic0 = time.time()\n",
    "        for i in range(it):\n",
    "            v1 = u0 + dt * (for_loops(u0,h,Nx) + sigma*m)\n",
    "            v2 = 3./4. * u0 + 1./4. * v1 + 1./4. * dt * (for_loops(v1,h,Nx) + sigma*m)\n",
    "            v = 1./3. * u0 + 2./3. * v2 + 2./3. * dt *  (for_loops(v2,h,Nx) + sigma*m)\n",
    "        toc0 = time.time()\n",
    "        t0 += (toc0-tic0)\n",
    "        t0s[j] = t0\n",
    "    \n",
    "    tic1 = time.time()\n",
    "    for i in range(it):\n",
    "        v1 = u1 + dt * (nproll(u1.real,h,Nx) + sigma*m)\n",
    "        v2 = 3./4. * u1 + 1./4. * v1 + 1./4. * dt * (nproll(v1,h,Nx) + sigma*m)\n",
    "        v = 1./3. * u1 + 2./3. * v2 + 2./3. * dt *  (nproll(v2,h,Nx) + sigma*m)\n",
    "    toc1 = time.time()\n",
    "    t1 += (toc1-tic1)\n",
    "    t1s[j] = t1\n",
    "    \n",
    "    tic2 = time.time()\n",
    "    for i in range(it):\n",
    "        v1 = u2 + dt * (centralDiffShift1(u2.real,h,Nx) + sigma*m)\n",
    "        v2 = 3./4. * u2 + 1./4. * v1 + 1./4. * dt * (centralDiffShift1(v1,h,Nx) + sigma*m)\n",
    "        v = 1./3. * u2 + 2./3. * v2 + 2./3. * dt *  (centralDiffShift1(v2,h,Nx) + sigma*m)\n",
    "    toc2 = time.time()\n",
    "    t2 += (toc2-tic2)\n",
    "    t2s[j] = t2\n",
    "    \n",
    "    j += 1"
   ]
  },
  {
   "cell_type": "markdown",
   "metadata": {},
   "source": [
    "Plot the benchmarking result for the SSP-RK3 + central difference substep."
   ]
  },
  {
   "cell_type": "code",
   "execution_count": 277,
   "metadata": {},
   "outputs": [
    {
     "data": {
      "image/png": "[encoded data removed]",
      "text/plain": [
       "<Figure size 576x360 with 1 Axes>"
      ]
     },
     "metadata": {},
     "output_type": "display_data"
    }
   ],
   "source": [
    "import matplotlib\n",
    "matplotlib.rcParams.update({'font.size': 14})\n",
    "\n",
    "Nxs = [64,128,256,512,1024,2048]\n",
    "\n",
    "fig3 = plt.figure(figsize = (8,5))\n",
    "plt.semilogy(np.log2(Nxs[:-1]),t0as,'-o', label='for loops')\n",
    "plt.semilogy(np.log2(Nxs),t0s,'-o', label='for loops (JIT)')\n",
    "plt.semilogy(np.log2(Nxs),t1s,'-o', label='numpy roll')\n",
    "plt.semilogy(np.log2(Nxs),t2as,'-o', label='shift')\n",
    "plt.semilogy(np.log2(Nxs),t2s,'-o', label='shift (JIT)')\n",
    "plt.semilogy(np.log2(Nxs),t3s,'-o', label='CUDA (GPU)')\n",
    "\n",
    "plt.legend(loc = 'lower right')\n",
    "plt.grid()\n",
    "\n",
    "plt.ylabel(r'time taken for 50 iterations / s')\n",
    "plt.xticks([6,7,8,9,10,11],[r'$2^6$',r'$2^7$',r'$2^8$',r'$2^9$',r'$2^{10}$',r'$2^{11}$'])\n",
    "plt.yticks([0.01,0.1,1.0,10.0,100.0],[0.01,0.1,1.0,10.0,100.0])\n",
    "plt.xlabel(r'$N_x$; Array size = $(N_x \\times N_x)$')\n",
    "plt.xlim(6,11)\n",
    "plt.ylim(0.01,500)\n",
    "plt.savefig('ec_ssprk3_cd.pdf', bbox_inches='tight')\n",
    "plt.show()"
   ]
  },
  {
   "cell_type": "code",
   "execution_count": null,
   "metadata": {
    "collapsed": true
   },
   "outputs": [],
   "source": []
  }
 ],
 "metadata": {
  "kernelspec": {
   "display_name": "Python [conda env:gputest]",
   "language": "python",
   "name": "conda-env-gputest-py"
  },
  "language_info": {
   "codemirror_mode": {
    "name": "ipython",
    "version": 2
   },
   "file_extension": ".py",
   "mimetype": "text/x-python",
   "name": "python",
   "nbconvert_exporter": "python",
   "pygments_lexer": "ipython2",
   "version": "2.7.15"
  }
 },
 "nbformat": 4,
 "nbformat_minor": 2
}
