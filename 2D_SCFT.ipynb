{
 "cells": [
  {
   "cell_type": "markdown",
   "metadata": {},
   "source": [
    "### Code for Chapter 6: SCFT Numerics"
   ]
  },
  {
   "cell_type": "markdown",
   "metadata": {},
   "source": [
    "Import some libraries."
   ]
  },
  {
   "cell_type": "code",
   "execution_count": 2,
   "metadata": {},
   "outputs": [],
   "source": [
    "import numpy as np\n",
    "import matplotlib.pyplot as plt\n",
    "import pyfftw\n",
    "from scipy import integrate\n",
    "from numba import jit"
   ]
  },
  {
   "cell_type": "markdown",
   "metadata": {},
   "source": [
    "Define some helper functions.\n",
    "\n",
    "`get_fselector` defines which part of the copolymer sequence belongs to monomer type A (denoted by 1's) and which to type B (denoted by 0's). `sf` selects according to a head-to-tail perspective, while `sft` selects according to a tail-to-head perspective. These correspond to what the propagator functions q and qt 'see' as they 'walk' in their respective directions along the contour of the copolymer sequence. \n",
    "\n",
    "`get_k` gets the corresponding wavenumber/frequency grid.\n",
    "\n",
    "`solve_phi` solves for the respective monomer densities according to eqn 5.47a and eqn 5.47b."
   ]
  },
  {
   "cell_type": "code",
   "execution_count": 3,
   "metadata": {},
   "outputs": [],
   "source": [
    "def get_fselector(fa,fb,Ns):\n",
    "    ka = int(fa*Ns)\n",
    "    kb = int(fb*Ns)\n",
    "    sf = np.concatenate((np.zeros(ka+1),np.ones(kb+1)),axis=0).astype(int)\n",
    "    sft = np.concatenate((np.ones(kb+1),np.zeros(ka+1)),axis=0).astype(int)\n",
    "    return sf,sft\n",
    "\n",
    "def get_k(Nx):\n",
    "    freqs = np.fft.fftfreq(Nx,(1.0/float(Nx)))\n",
    "    kx, ky = np.meshgrid(freqs,freqs)\n",
    "    k = kx + ky\n",
    "    k2 = kx**2+ky**2\n",
    "    return k2\n",
    "\n",
    "def solve_phi(q,qt,Nx,Na,ds,V):\n",
    "    ax1 = np.linspace(0.,V,num=Nx)\n",
    "    phi = np.zeros((Nx,Nx,2))\n",
    "    for j in range(Nx):\n",
    "        for k in range(Nx):\n",
    "            # here is where the flipping of the backward propagator occurs.\n",
    "            tmp1 = q[j,k,:]*qt[j,k,::-1]\n",
    "            \n",
    "            # eqn 5.47a and eqn 5.47b\n",
    "            phi[j,k,0] = integrate.trapz(tmp1[:Na+1],dx=ds)\n",
    "            phi[j,k,1] = integrate.trapz(tmp1[Na:],dx=ds)\n",
    "    Q = 1./(V*V) * integrate.trapz(integrate.trapz(q[:,:,-1],x=ax1),x=ax1)\n",
    "\n",
    "    return phi/Q"
   ]
  },
  {
   "cell_type": "markdown",
   "metadata": {},
   "source": [
    "The main SCFT function. The algorithm of section 6.1.1 is referred to as simply 'the algorithm' here.\n",
    "\n",
    "The modified diffusion equation is solved according to section 6.1.2: solving the MDE. Note that here, both the forward and backward propagator functions are updated and stored in the same direction, so a flipping of one of them will be necessary to account for the opposite directions (i.e. the head-tail perspectives)."
   ]
  },
  {
   "cell_type": "code",
   "execution_count": 4,
   "metadata": {},
   "outputs": [],
   "source": [
    "def scft(Nx,fa,V,gam,XN,it,wisdom=None):\n",
    "    # define number of monomers for each type.\n",
    "    N = 20\n",
    "    fb = 1.-fa\n",
    "    Na = int(fa*N)\n",
    "    Nb = int(fb*N)\n",
    "    print('fa = %.3f' %fa)\n",
    "    print('fb = %.3f' %fb)\n",
    "    print('')\n",
    "\n",
    "    # define copolymer sequence contour step-sizes (ds), and contour resolution (Ns).\n",
    "    ds = 1./(N)\n",
    "    Ns = int(N)\n",
    "\n",
    "    # define time step-size (gamma_1 and gamma_2 of eqn 6.1a)\n",
    "    eps = gam\n",
    "\n",
    "    # define the Flory-Huggins parameter such that X_ab == constant always.\n",
    "    Xab = XN/N\n",
    "    \n",
    "    # random seed for reproducibility.\n",
    "#     np.random.seed(555)\n",
    "\n",
    "    # initialize empty arrays and initial conditions.\n",
    "    w = np.zeros((Nx,Nx,2))\n",
    "    C = 0.1 # scaling factor\n",
    "    w[:,:,:] = C*np.random.uniform(-1.,1.,(Nx,Nx,2))\n",
    "    phi = np.zeros((Nx,Nx,2))\n",
    "    q = np.zeros((Nx,Nx,Ns+1))\n",
    "    qt = np.zeros((Nx,Nx,Ns+1))\n",
    "    \n",
    "    # import pyfftw wisdom if it is defined.\n",
    "    if wisdom != None:\n",
    "        pyfftw.import_wisdom(wisdom)\n",
    "    \n",
    "    # initialise pyfftw arrays.\n",
    "    qpp = pyfftw.empty_aligned((Nx,Nx), dtype='complex128', n=16)\n",
    "    qppt = pyfftw.empty_aligned((Nx,Nx), dtype='complex128', n=16)\n",
    "    qp = pyfftw.empty_aligned((Nx,Nx), dtype='complex128', n=16)\n",
    "    qpt = pyfftw.empty_aligned((Nx,Nx), dtype='complex128', n=16)\n",
    "    v = pyfftw.empty_aligned((Nx,Nx), dtype='complex128', n=16)\n",
    "    vt = pyfftw.empty_aligned((Nx,Nx), dtype='complex128', n=16)\n",
    "    \n",
    "    # define pyfftw FFT plans.\n",
    "    fft_object = pyfftw.FFTW(qpp, qp, threads=1, axes=(0,1))\n",
    "    ifft_object = pyfftw.FFTW(qp, v, direction='FFTW_BACKWARD', threads=1, axes=(0,1))\n",
    "    \n",
    "    fft_object = pyfftw.FFTW(qppt, qpt, threads=1, axes=(0,1))\n",
    "    ifft_object = pyfftw.FFTW(qpt, vt, direction='FFTW_BACKWARD', threads=1, axes=(0,1))\n",
    "\n",
    "    # get the monomer configuration in the polymer.\n",
    "    f, ft = get_fselector(fa,fb,Ns)\n",
    "\n",
    "    # get wavenumber and spatial grid.\n",
    "    freqs = np.fft.fftfreq(Nx,(1.0/float(Nx)))\n",
    "    kx, ky = np.meshgrid(freqs,freqs)\n",
    "    k = kx + ky\n",
    "    k2 = kx**2+ky**2\n",
    "    \n",
    "    # get spatial grid.\n",
    "    dx = np.linspace(0,V,num=Nx)\n",
    "\n",
    "    # calculate xi and phi at first iteration. Step 1 of algorithm.\n",
    "    pressure = (w[:,:,0] + w[:,:,1])/2\n",
    "    pressure = pressure-pressure.mean()\n",
    "    xi = Xab*N-pressure\n",
    "\n",
    "    # calculate the initial phi values.\n",
    "    phi[:,:,0] = (w[:,:,0] - xi)/(Xab*N)\n",
    "    phi[:,:,1] = (w[:,:,1] - xi)/(Xab*N)\n",
    "\n",
    "    # for each subsequent iteration...\n",
    "    for i in range(it):\n",
    "        # store the old phi values for equation 6.1c, step 4 of the algorithm.\n",
    "        phi_old = np.copy(phi)\n",
    "\n",
    "        # define initial conditions (eqn 5.30)\n",
    "        q[:,:,0] = 1\n",
    "        qt[:,:,0] = 1\n",
    "\n",
    "        # solve the MDE.\n",
    "        for s in range(1,Ns+1):\n",
    "            # solving MDE: substep 1 (eqn 6.5a)\n",
    "            qpp[:,:] = np.exp(-0.5*ds*w[:,:,f[s]])*q[:,:,s-1]\n",
    "            qppt[:,:] = np.exp(-0.5*ds*w[:,:,ft[s]])*qt[:,:,s-1]\n",
    "            \n",
    "            # solving MDE: substep 2 (eqn 6.5b)\n",
    "            qp[:,:] = np.exp(-4*np.pi**2*ds*k2/(V**2))*fft_object(qpp)\n",
    "            qpt[:,:] = np.exp(-4*np.pi**2*ds*k2/(V**2))*fft_object(qppt)\n",
    "            \n",
    "            # solving MDE: substep 3 (eqn 6.5c)\n",
    "            q[:,:,s] = np.exp(-0.5*ds*w[:,:,f[s]])*ifft_object(qp).real\n",
    "            qt[:,:,s] = np.exp(-0.5*ds*w[:,:,ft[s]])*ifft_object(qpt).real\n",
    "        \n",
    "        # get the phi values using helper function.\n",
    "        phi = solve_phi(q,qt,Nx,int(fa*Ns),ds,V)\n",
    "\n",
    "        # get the pressure term (2nd term of xi, equation 5.47e).\n",
    "        pressure = (w[:,:,0] + w[:,:,1])/2\n",
    "        pressure = pressure-pressure.mean()\n",
    "\n",
    "        # equation 6.1c.\n",
    "        delta_phi = phi_old.sum(axis=2)-phi.sum(axis=2)\n",
    "        delta_phi = delta_phi-delta_phi.mean()\n",
    "\n",
    "        # update w(i) to w(i+1), equation 6.1a. This completes substep 4 of the algorithm.\n",
    "        w[:,:,0] = w[:,:,0]+gam*(Xab*N*(phi[:,:,1]-0.5)+pressure-w[:,:,0])-eps*(delta_phi)\n",
    "        w[:,:,1] = w[:,:,1]+gam*(Xab*N*(phi[:,:,0]-0.5)+pressure-w[:,:,1])-eps*(delta_phi)\n",
    "\n",
    "        # print every 100th iteration.\n",
    "        if i%100==0:\n",
    "            print('it = %i' %i)\n",
    "        \n",
    "    wisdom = pyfftw.export_wisdom()\n",
    "\n",
    "    return phi"
   ]
  },
  {
   "cell_type": "markdown",
   "metadata": {},
   "source": [
    "Define parameters used and run the SCFT simulation."
   ]
  },
  {
   "cell_type": "code",
   "execution_count": 5,
   "metadata": {},
   "outputs": [
    {
     "name": "stdout",
     "output_type": "stream",
     "text": [
      "fa = 0.700\n",
      "fb = 0.300\n",
      "\n",
      "it = 0\n",
      "it = 100\n",
      "it = 200\n",
      "it = 300\n",
      "it = 400\n",
      "it = 500\n",
      "it = 600\n",
      "it = 700\n",
      "it = 800\n",
      "it = 900\n"
     ]
    }
   ],
   "source": [
    "# Nx = spatial resolution; fa = fraction of copolymer sequence belonging to monomer type A.\n",
    "# gam = 'temporal' step-size (see eqn 6.1a)\n",
    "# it = number of iterations; V = length of domain\n",
    "# XN = Flory-Huggins parameter multiplied by the polymerisation index\n",
    "Nx = 128\n",
    "fa = 1.0 - 0.3\n",
    "gam = 0.2\n",
    "it = 1000\n",
    "V = 8.0\n",
    "XN = 30.0\n",
    "\n",
    "# run simulation.\n",
    "phi = scft(Nx,fa,V,gam,XN,it)"
   ]
  },
  {
   "cell_type": "markdown",
   "metadata": {},
   "source": [
    "Plot resulting morphology."
   ]
  },
  {
   "cell_type": "code",
   "execution_count": 6,
   "metadata": {
    "scrolled": true
   },
   "outputs": [
    {
     "data": {
      "image/png": "[encoded data removed]",
      "text/plain": [
       "<Figure size 432x288 with 2 Axes>"
      ]
     },
     "metadata": {
      "needs_background": "light"
     },
     "output_type": "display_data"
    }
   ],
   "source": [
    "# calculate density difference\n",
    "U = phi[:,:,0] - phi[:,:,1]\n",
    "\n",
    "# plot.\n",
    "fig = plt.figure()\n",
    "plt.imshow(U ,origin='left',extent=[0,V,0,V], vmax=1.0, vmin=-1.0)\n",
    "plt.colorbar()\n",
    "plt.show()"
   ]
  },
  {
   "cell_type": "code",
   "execution_count": 7,
   "metadata": {},
   "outputs": [],
   "source": [
    "# output arrays of the monomer densities.\n",
    "np.savetxt(\"phi0_fA=0.8_it=500.txt\", phi[:,:,0])\n",
    "np.savetxt(\"phi1_fA=0.8_it=500.txt\", phi[:,:,1])"
   ]
  },
  {
   "cell_type": "code",
   "execution_count": null,
   "metadata": {},
   "outputs": [],
   "source": []
  },
  {
   "cell_type": "code",
   "execution_count": null,
   "metadata": {},
   "outputs": [],
   "source": []
  }
 ],
 "metadata": {
  "kernelspec": {
   "display_name": "Python 3",
   "language": "python",
   "name": "python3"
  },
  "language_info": {
   "codemirror_mode": {
    "name": "ipython",
    "version": 3
   },
   "file_extension": ".py",
   "mimetype": "text/x-python",
   "name": "python",
   "nbconvert_exporter": "python",
   "pygments_lexer": "ipython3",
   "version": "3.7.3"
  }
 },
 "nbformat": 4,
 "nbformat_minor": 2
}
