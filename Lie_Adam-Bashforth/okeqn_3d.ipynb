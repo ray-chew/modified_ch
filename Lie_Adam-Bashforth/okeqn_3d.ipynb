{
 "cells": [
  {
   "cell_type": "code",
   "execution_count": 9,
   "metadata": {},
   "outputs": [],
   "source": [
    "import numpy as np\n",
    "from scipy import integrate\n",
    "import matplotlib.pyplot as plt\n",
    "import pyfftw\n",
    "import time\n",
    "\n",
    "import utils\n",
    "import schemes\n",
    "import checker\n",
    "\n",
    "%matplotlib inline"
   ]
  },
  {
   "cell_type": "code",
   "execution_count": null,
   "metadata": {
    "collapsed": true
   },
   "outputs": [],
   "source": [
    "# parameters for numerics\n",
    "seed = np.random.randint(1)\n",
    "seed = 555\n",
    "\n",
    "dt = 0.001\n",
    "Nx = 64\n",
    "L = 2.*np.pi\n",
    "\n",
    "eps = 0.06\n",
    "sigma = 0.5\n",
    "m = 0.33\n",
    "\n",
    "# number of iterations\n",
    "it = 1000\n",
    "it = it+1\n",
    "\n",
    "# intervals levels to capture snapshot of morphology.\n",
    "lv = 100\n",
    "\n",
    "# define pyfftw wisdom\n",
    "wisdom = None\n",
    "\n",
    "tic = time.time()\n",
    "us, avgConc, energy, wisdom = schemes.strangSplitting(Nx,L,dt,it,eps,sigma,m,seed,wisdom,lv,dim=3)\n",
    "u = us[...,-1]\n",
    "toc = time.time()\n",
    "\n",
    "print(\"time taken: %.2f\" %(toc-tic))"
   ]
  },
  {
   "cell_type": "code",
   "execution_count": 4,
   "metadata": {},
   "outputs": [
    {
     "name": "stdout",
     "output_type": "stream",
     "text": [
      "(64L, 64L, 64L)\n"
     ]
    }
   ],
   "source": [
    "seed = 555\n",
    "\n",
    "dt = 0.001\n",
    "Nx = 64\n",
    "L = 2.*np.pi\n",
    "\n",
    "eps = 0.06\n",
    "sigma = 0.5\n",
    "m = 0.33\n",
    "\n",
    "# number of iterations\n",
    "it = 1000\n",
    "it = it+1\n",
    "\n",
    "# intervals levels to capture snapshot of morphology.\n",
    "lv = 100\n",
    "\n",
    "# get path of arrays.\n",
    "imgDir = 'imgs'\n",
    "tag = ',strangFFTW_3D'\n",
    "path = utils.getPath(Nx,L,dt,it,eps,sigma,m,seed,lv,imgDir,tag)\n",
    "\n",
    "data = np.loadtxt(path+'/it='+str(1000)+'.txt')\n",
    "data = new_data.reshape((Nx,Nx,Nx))\n",
    "\n",
    "print(data.shape)"
   ]
  },
  {
   "cell_type": "code",
   "execution_count": 7,
   "metadata": {},
   "outputs": [
    {
     "name": "stdout",
     "output_type": "stream",
     "text": [
      "(64L, 64L)\n"
     ]
    },
    {
     "data": {
      "image/png": "[encoded data removed]",
      "text/plain": [
       "<matplotlib.figure.Figure at 0x967c550>"
      ]
     },
     "metadata": {},
     "output_type": "display_data"
    }
   ],
   "source": [
    "nSlice = 30\n",
    "ut = data[:,:,nSlice]\n",
    "print(ut.shape)\n",
    "\n",
    "fig1 = plt.figure(figsize=(3,3))\n",
    "plt.imshow(ut,origin='left', extent=[0,L,0,L])\n",
    "plt.show()"
   ]
  }
 ],
 "metadata": {
  "kernelspec": {
   "display_name": "Python 3",
   "language": "python",
   "name": "python3"
  },
  "language_info": {
   "codemirror_mode": {
    "name": "ipython",
    "version": 3
   },
   "file_extension": ".py",
   "mimetype": "text/x-python",
   "name": "python",
   "nbconvert_exporter": "python",
   "pygments_lexer": "ipython3",
   "version": "3.7.3"
  }
 },
 "nbformat": 4,
 "nbformat_minor": 2
}
