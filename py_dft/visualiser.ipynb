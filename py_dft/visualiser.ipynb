{
 "cells": [
  {
   "cell_type": "code",
   "execution_count": 31,
   "metadata": {},
   "outputs": [
    {
     "data": {
      "text/plain": [
       "<module 'initial_conditions' from '/home/ray/git-projects/modified_ch/py_dft/initial_conditions.py'>"
      ]
     },
     "execution_count": 31,
     "metadata": {},
     "output_type": "execute_result"
    }
   ],
   "source": [
    "import numpy as np\n",
    "import matplotlib.pyplot as plt\n",
    "%matplotlib inline\n",
    "\n",
    "import initial_conditions\n",
    "from utils import writer\n",
    "import importlib\n",
    "importlib.reload(initial_conditions)"
   ]
  },
  {
   "cell_type": "code",
   "execution_count": 33,
   "metadata": {},
   "outputs": [
    {
     "name": "stdout",
     "output_type": "stream",
     "text": [
      "[array(0.7874507, dtype=float32), array(0.7874507, dtype=float32), array(0.7874507, dtype=float32), array(0.7874507, dtype=float32), array(0.7874507, dtype=float32), array(0.7874507, dtype=float32), array(0.7874507, dtype=float32), array(0.7874507, dtype=float32), array(0.7874507, dtype=float32), array(0.7874507, dtype=float32), array(0.7874507, dtype=float32), array(0.7874507, dtype=float32), array(0.7874507, dtype=float32), array(0.7874507, dtype=float32), array(0.7874507, dtype=float32), array(0.7874507, dtype=float32), array(0.7874507, dtype=float32), array(0.7874507, dtype=float32), array(0.7874507, dtype=float32), array(0.7874507, dtype=float32), array(0.7874507, dtype=float32), array(0.7874507, dtype=float32), array(0.7874507, dtype=float32), array(0.7874507, dtype=float32), array(0.7874507, dtype=float32), array(0.7874507, dtype=float32), array(0.7874507, dtype=float32), array(0.7874507, dtype=float32), array(0.7874507, dtype=float32), array(0.7874507, dtype=float32), array(0.7874507, dtype=float32), array(0.7874507, dtype=float32), array(0.7874507, dtype=float32), array(0.7874507, dtype=float32), array(0.7874507, dtype=float32), array(0.7874507, dtype=float32), array(0.7874507, dtype=float32), array(0.7874507, dtype=float32), array(0.7874507, dtype=float32), array(0.7874507, dtype=float32), array(0.7874507, dtype=float32), array(0.7874507, dtype=float32), array(0.7874507, dtype=float32), array(0.7874507, dtype=float32), array(0.7874507, dtype=float32), array(0.7874507, dtype=float32), array(0.7874507, dtype=float32), array(0.7874507, dtype=float32), array(0.7874507, dtype=float32), array(0.7874507, dtype=float32), array(0.7874507, dtype=float32), array(0.7874507, dtype=float32), array(0.7874507, dtype=float32), array(0.7874507, dtype=float32), array(0.7874507, dtype=float32), array(0.7874507, dtype=float32), array(0.7874507, dtype=float32), array(0.7874507, dtype=float32), array(0.7874507, dtype=float32), array(0.7874507, dtype=float32), array(0.7874507, dtype=float32), array(0.7874507, dtype=float32), array(0.7874507, dtype=float32), array(0.7874507, dtype=float32), array(0.7874507, dtype=float32), array(0.7874507, dtype=float32), array(0.7874507, dtype=float32), array(0.7874507, dtype=float32), array(0.7874507, dtype=float32), array(0.7874507, dtype=float32), array(0.7874507, dtype=float32), array(0.7874507, dtype=float32), array(0.7874507, dtype=float32), array(0.7874507, dtype=float32), array(0.7874507, dtype=float32), array(0.7874507, dtype=float32), array(0.7874507, dtype=float32), array(0.7874507, dtype=float32), array(0.7874507, dtype=float32), array(0.7874507, dtype=float32), array(0.7874507, dtype=float32), array(0.7874507, dtype=float32), array(0.7874507, dtype=float32), array(0.7874507, dtype=float32), array(0.7874507, dtype=float32), array(0.7874507, dtype=float32), array(0.7874507, dtype=float32), array(0.7874507, dtype=float32), array(0.7874507, dtype=float32), array(0.7874507, dtype=float32), array(0.7874507, dtype=float32), array(0.7874507, dtype=float32), array(0.7874507, dtype=float32), array(0.7874507, dtype=float32), array(0.7874507, dtype=float32), array(0.7874507, dtype=float32), array(0.7874507, dtype=float32), array(0.7874507, dtype=float32), array(0.7874507, dtype=float32), array(0.7874507, dtype=float32), array(0.7874507, dtype=float32)]\n",
      "0.31748021039\n"
     ]
    },
    {
     "data": {
      "image/png": "[encoded data removed]",
      "text/plain": [
       "<Figure size 432x288 with 1 Axes>"
      ]
     },
     "metadata": {
      "needs_background": "light"
     },
     "output_type": "display_data"
    },
    {
     "data": {
      "image/png": "[encoded data removed]",
      "text/plain": [
       "<Figure size 432x288 with 1 Axes>"
      ]
     },
     "metadata": {
      "needs_background": "light"
     },
     "output_type": "display_data"
    }
   ],
   "source": [
    "init = initial_conditions.ic()\n",
    "options = init.options\n",
    "\n",
    "prefix = options['prefix']\n",
    "chiN = options['chiN']\n",
    "delta = options['delta']\n",
    "it = options['it']\n",
    "dt = options['dt']\n",
    "\n",
    "lv = int(it/100)\n",
    "         \n",
    "io = writer.writer(prefix,chiN,delta)\n",
    "# writer.path = writer.get_file_path(base_output_folder='./output/')\n",
    "its = np.arange(0,it,lv)\n",
    "\n",
    "t = np.arange(0,it/lv)*dt*lv\n",
    "\n",
    "# arr = io.get_dataset('energy', 1000)\n",
    "# print(arr)\n",
    "\n",
    "energy = []\n",
    "for it in its:\n",
    "    arr = io.get_dataset('energy',it)\n",
    "    energy.append(arr)\n",
    "    \n",
    "avg_conc = []\n",
    "for it in its:\n",
    "    arr = io.get_dataset('avg_conc',it)\n",
    "    avg_conc.append(arr)\n",
    "    \n",
    "print(energy)\n",
    "print(options['delta'])\n",
    "    \n",
    "fig2 = plt.figure()\n",
    "plt.xlabel('t')\n",
    "plt.plot(t,avg_conc)\n",
    "plt.plot(t,energy)\n",
    "plt.ylim([0,1])\n",
    "plt.show()\n",
    "\n",
    "order_param = io.get_dataset('order_parameter',options['it']-1)\n",
    "fig = plt.figure()\n",
    "plt.imshow(order_param)\n",
    "plt.show()"
   ]
  },
  {
   "cell_type": "code",
   "execution_count": null,
   "metadata": {},
   "outputs": [],
   "source": []
  },
  {
   "cell_type": "code",
   "execution_count": null,
   "metadata": {},
   "outputs": [],
   "source": []
  },
  {
   "cell_type": "code",
   "execution_count": null,
   "metadata": {},
   "outputs": [],
   "source": []
  }
 ],
 "metadata": {
  "kernelspec": {
   "display_name": "Python 3",
   "language": "python",
   "name": "python3"
  },
  "language_info": {
   "codemirror_mode": {
    "name": "ipython",
    "version": 3
   },
   "file_extension": ".py",
   "mimetype": "text/x-python",
   "name": "python",
   "nbconvert_exporter": "python",
   "pygments_lexer": "ipython3",
   "version": "3.7.3"
  }
 },
 "nbformat": 4,
 "nbformat_minor": 2
}
